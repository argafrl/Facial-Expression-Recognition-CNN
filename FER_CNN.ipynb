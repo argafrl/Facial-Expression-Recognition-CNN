{
 "cells": [
  {
   "cell_type": "code",
   "execution_count": 2,
   "id": "e47061ea",
   "metadata": {},
   "outputs": [],
   "source": [
    "# Memasukkan library yang dibutuhkan\n",
    "import tensorflow\n",
    "\n",
    "# Library untuk manipulasi gambar dan data visualisasi\n",
    "# import pandas as pd\n",
    "import numpy as np\n",
    "import os\n",
    "import random\n",
    "import cv2\n",
    "import math\n",
    "import seaborn as sns\n",
    "import matplotlib.pyplot as plt\n",
    "from glob import glob\n",
    "\n",
    "# Model selection\n",
    "from sklearn.metrics import confusion_matrix\n",
    "from sklearn.preprocessing import LabelBinarizer\n",
    "from sklearn.model_selection import train_test_split\n",
    "\n",
    "# CNN (Convolutional Neural Network) libraries\n",
    "from tensorflow.keras.layers import Dense,GlobalAveragePooling2D,Convolution2D,BatchNormalization\n",
    "from tensorflow.keras.layers import Flatten,MaxPooling2D,Dropout\n",
    "\n",
    "# Densenet Libraries\n",
    "from tensorflow.keras.applications.densenet import preprocess_input\n",
    "\n",
    "# Preprocess\n",
    "from tensorflow.keras.preprocessing import image\n",
    "from tensorflow.keras.preprocessing.image import ImageDataGenerator,img_to_array\n",
    "\n",
    "# Deeplearning libraries\n",
    "from tensorflow.keras.models import Model\n",
    "from tensorflow.keras.optimizers import Adam\n",
    "\n",
    "from tensorflow.keras.callbacks import ModelCheckpoint, ReduceLROnPlateau\n",
    "\n",
    "# Mengabaikan warnings\n",
    "import warnings\n",
    "warnings.filterwarnings(\"ignore\")"
   ]
  },
  {
   "cell_type": "code",
   "execution_count": null,
   "id": "f8c6e197",
   "metadata": {},
   "outputs": [],
   "source": []
  }
 ],
 "metadata": {
  "kernelspec": {
   "display_name": "Python 3 (ipykernel)",
   "language": "python",
   "name": "python3"
  },
  "language_info": {
   "codemirror_mode": {
    "name": "ipython",
    "version": 3
   },
   "file_extension": ".py",
   "mimetype": "text/x-python",
   "name": "python",
   "nbconvert_exporter": "python",
   "pygments_lexer": "ipython3",
   "version": "3.9.7"
  }
 },
 "nbformat": 4,
 "nbformat_minor": 5
}
